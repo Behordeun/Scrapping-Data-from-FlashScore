{
  "cells": [
    {
      "cell_type": "code",
      "execution_count": null,
      "metadata": {
        "colab": {
          "base_uri": "https://localhost:8080/"
        },
        "id": "2IrV9Uz7HrsU",
        "outputId": "97eb537e-e81c-497f-ed20-501c12018cf0"
      },
      "outputs": [],
      "source": [
        "# %% Install dependencies on Google Colab (remove the # sign in front of the syntaxes to install the dependencies to your environment)\n",
        "#!pip install selenium\n",
        "#!apt-get update\n",
        "#!apt install chromium-chromedriver"
      ]
    },
    {
      "cell_type": "code",
      "execution_count": null,
      "metadata": {
        "id": "nyhBv3HFHyQk"
      },
      "outputs": [],
      "source": [
        "# %% import needed libraries\n",
        "from bs4 import BeautifulSoup as bs\n",
        "from selenium import webdriver\n",
        "from selenium.webdriver.chrome.options import Options\n",
        "import pandas as pd\n",
        "import numpy as np\n",
        "from time import sleep\n",
        "\n",
        "import warnings\n",
        "warnings.filterwarnings('ignore')"
      ]
    },
    {
      "cell_type": "code",
      "execution_count": null,
      "metadata": {
        "id": "uTV_yteCH1o6"
      },
      "outputs": [],
      "source": [
        "# %% Set the url link\n",
        "url = \"https://www.flashscore.com/football/england/premier-league/results/\""
      ]
    },
    {
      "cell_type": "code",
      "execution_count": null,
      "metadata": {
        "id": "aKXx5-05H40S"
      },
      "outputs": [],
      "source": [
        "# %% Configure web driver for the scrape job\n",
        "\n",
        "options = Options()\n",
        "options.add_argument('--headless')\n",
        "options.add_argument('--no-sandbox')\n",
        "options.add_argument('--disable-dev-shm-usage')\n",
        "driver = webdriver.Chrome('chromedriver', options=options)"
      ]
    },
    {
      "cell_type": "code",
      "execution_count": null,
      "metadata": {
        "id": "ha4jFRJ_H8Xx"
      },
      "outputs": [],
      "source": [
        "# %% Initiate connection to the url\n",
        "html = driver.get(url)\n",
        "# html = html.text\n",
        "sleep(5)"
      ]
    },
    {
      "cell_type": "code",
      "execution_count": null,
      "metadata": {
        "id": "gb0s1w3GH-3i"
      },
      "outputs": [],
      "source": [
        "# %% Initiate beautiful soup\n",
        "soup = bs(driver.page_source, 'lxml')"
      ]
    },
    {
      "cell_type": "code",
      "execution_count": null,
      "metadata": {
        "id": "-Cl-LMuDIBuH"
      },
      "outputs": [],
      "source": [
        "# %% Find the class that holds soccer information\n",
        "divs = soup.find('div', {'class': 'sportName soccer'})"
      ]
    },
    {
      "cell_type": "code",
      "execution_count": null,
      "metadata": {
        "id": "8LvX33IvORX8"
      },
      "outputs": [],
      "source": [
        "# %% Create an empty list to store the match statistics.\n",
        "stat_column = []"
      ]
    },
    {
      "cell_type": "code",
      "execution_count": null,
      "metadata": {
        "id": "XkWfdvFxIEQS"
      },
      "outputs": [],
      "source": [
        "# %%  Fetch goal details\n",
        "def parse_goal(bsTag, ownGoal):\n",
        "    goalTime = bsTag.find(\n",
        "        'div', {'class': 'smv__timeBox'}).text.replace(\"'\", '')\n",
        "    scorer = bsTag.find('a', {'class': 'smv__playerName'}).text\n",
        "    if ownGoal:\n",
        "        assist = 'NA'\n",
        "        isOwnGoal = True\n",
        "    else:\n",
        "        try:\n",
        "            assist = bsTag.find_all('div')[-1].find('a').text\n",
        "        except:\n",
        "            try:\n",
        "                assist = bsTag.find('div', {'class': \"smv__subIncident\"}).text.replace(\n",
        "                    '(', '').replace(')', '')\n",
        "            except:\n",
        "                assist = 'Not assisted'\n",
        "        isOwnGoal = False\n",
        "    return [goalTime, scorer, assist, isOwnGoal]\n"
      ]
    },
    {
      "cell_type": "code",
      "execution_count": null,
      "metadata": {
        "id": "sD2qbgcSIIC1"
      },
      "outputs": [],
      "source": [
        "#%% Fetch card details\n",
        "def parse_card(bsTag, card_type):\n",
        "    cardTime = bsTag.find(\n",
        "        'div', {'class': 'smv__timeBox'}).text.replace(\"'\", '')\n",
        "    player = bsTag.find('a', {'class': 'smv__playerName'}).text\n",
        "    if card_type == 'red':\n",
        "        isRed = True\n",
        "    else:\n",
        "        isRed = False\n",
        "    why = bsTag.find_all('div')[-1].text.replace('(', '').replace(')', '')\n",
        "    return [cardTime, isRed, why]\n"
      ]
    },
    {
      "cell_type": "code",
      "execution_count": null,
      "metadata": {
        "id": "ANjZIr7vILjE"
      },
      "outputs": [],
      "source": [
        "#%% Fetch substitution data\n",
        "def parse_substitution(bsTag):\n",
        "    subTime = bsTag.find(\n",
        "        'div', {'class': 'smv__timeBox'}).text.replace(\"'\", '')\n",
        "    try:\n",
        "        player = bsTag.find('a', {'class': 'smv__playerName'}).text\n",
        "    except:\n",
        "        player = 'error'\n",
        "    try:\n",
        "        outPlayer = bsTag.find(\n",
        "            'a', {'class': 'smv__subDown smv__playerName'}).text\n",
        "    except:\n",
        "        # bsTag.find('div',{'class':'smv__incidentSubOut '}).find('a').text\n",
        "        outPlayer = 'error'\n",
        "\n",
        "    return [subTime, player, outPlayer]\n"
      ]
    },
    {
      "cell_type": "code",
      "execution_count": null,
      "metadata": {
        "id": "Bg1IRuKfIPJa"
      },
      "outputs": [],
      "source": [
        "# %%\n",
        "all_div = divs.find_all(recursive=False)"
      ]
    },
    {
      "cell_type": "code",
      "execution_count": null,
      "metadata": {
        "id": "Io17ZWAPIRUw"
      },
      "outputs": [],
      "source": [
        "# %%\n",
        "match = []\n"
      ]
    },
    {
      "cell_type": "code",
      "execution_count": null,
      "metadata": {
        "id": "dgEdVXTLIT4F"
      },
      "outputs": [],
      "source": [
        "# %%"
      ]
    },
    {
      "cell_type": "code",
      "execution_count": null,
      "metadata": {
        "id": "tr0YU58IIXBY"
      },
      "outputs": [],
      "source": [
        "# %%\n",
        "rounds = []\n"
      ]
    },
    {
      "cell_type": "code",
      "execution_count": null,
      "metadata": {
        "id": "EX6mcRDmIafG"
      },
      "outputs": [],
      "source": [
        "# %%\n",
        "for i in all_div[1:]:\n",
        "    if len(rounds) > 7:\n",
        "        break\n",
        "\n",
        "    if i.text.startswith('Round'):\n",
        "        rounds.append(i.text)\n",
        "    else:\n",
        "        match.append(i)\n"
      ]
    },
    {
      "cell_type": "code",
      "execution_count": null,
      "metadata": {
        "id": "AqwQLuQEIfGf"
      },
      "outputs": [],
      "source": [
        "# %% Define a function to fetch match data\n",
        "def get_stats(all_stat):\n",
        "    first_sec = []\n",
        "    home_event = []\n",
        "    away_event = []\n",
        "\n",
        "    for i in all_stat:\n",
        "\n",
        "        if 'section__title' in i.get('class'):\n",
        "            score = i.text.split('Half')[1]\n",
        "            first_sec.append(score)\n",
        "\n",
        "        elif 'smv__empty' in i.get('class'):\n",
        "            continue\n",
        "        else:\n",
        "            if 'smv__homeParticipant' in i.get('class'):\n",
        "                event_type = i.find('svg').get('class')\n",
        "                if event_type[0] == 'soccer':\n",
        "                    if len(event_type) > 1:\n",
        "                        itsOwnGoal = True\n",
        "                    else:\n",
        "                        itsOwnGoal = False\n",
        "                    ans = parse_goal(i, itsOwnGoal)\n",
        "                    print(ans)\n",
        "                    home_event.append(ans)\n",
        "                elif event_type[0] == 'card-ico':\n",
        "                    try:\n",
        "                        if 'yellow' in event_type[1]:\n",
        "                            ans = parse_card(i, 'yellow')\n",
        "                        else:\n",
        "                            ans = parse_card(i, 'red')\n",
        "                    except:\n",
        "                        ans = parse_card(i, 'red')\n",
        "                        print(ans)\n",
        "                        home_event.append(ans)\n",
        "                else:\n",
        "                    ans = parse_substitution(i)\n",
        "                    print(ans)\n",
        "                    home_event.append(ans)\n",
        "            else:\n",
        "                event_type = i.find('svg').get('class')\n",
        "                if event_type[0] == 'soccer':\n",
        "                    if len(event_type) > 1:\n",
        "                        itsOwnGoal = True\n",
        "                    else:\n",
        "                        itsOwnGoal = False\n",
        "                    ans = parse_goal(i, itsOwnGoal)\n",
        "                    print(ans)\n",
        "                    away_event.append(ans)\n",
        "                elif event_type[0] == 'card-ico':\n",
        "                    try:\n",
        "                        if 'yellow' in event_type[1]:\n",
        "                            ans = parse_card(i, 'yellow')\n",
        "                        else:\n",
        "                            ans = parse_card(i, 'red')\n",
        "                            print(ans)\n",
        "                    except:\n",
        "                        ans = parse_card(i, 'red')\n",
        "                        print(ans)\n",
        "                    away_event.append(ans)\n",
        "                else:\n",
        "                    ans = parse_substitution(i)\n",
        "                    print(ans)\n",
        "                    away_event.append(ans)\n",
        "    return first_sec, home_event, away_event\n"
      ]
    },
    {
      "cell_type": "code",
      "execution_count": null,
      "metadata": {
        "id": "mt8mTWGYIjyi"
      },
      "outputs": [],
      "source": [
        "# %% Define a column for fetch match statistics.\n",
        "def get_stats_match():\n",
        "    global stat_column\n",
        "    soup2 = bs(driver.page_source, 'lxml')\n",
        "    x = soup2.find_all('div', {'class': 'stat__category'})\n",
        "    match_stat = []\n",
        "    y = [i.find_all(recursive=True) for i in x]\n",
        "    for l in y:\n",
        "        temp = [i.text for i in l]\n",
        "        match_stat.append([temp[0], temp[2]])\n",
        "        if temp[1] not in stat_column:\n",
        "            stat_column.append(temp[1])\n",
        "        print(match_stat)\n",
        "    return match_stat\n"
      ]
    },
    {
      "cell_type": "code",
      "execution_count": null,
      "metadata": {
        "id": "eujp2d8sIneK"
      },
      "outputs": [],
      "source": [
        "# %% Create an empty list to store the scraped data\n",
        "all_data = []\n"
      ]
    },
    {
      "cell_type": "code",
      "execution_count": null,
      "metadata": {
        "colab": {
          "base_uri": "https://localhost:8080/"
        },
        "id": "TxSF4N0XIqWI",
        "outputId": "1e0f081d-9780-46f0-8dc1-08a43c9a19bd"
      },
      "outputs": [],
      "source": [
        "# %% Scrape the respective match data and append them to the empty list (all_data).\n",
        "for k in match:\n",
        "    try:\n",
        "        home = k.find('div', {\n",
        "                      \"class\": \"event__participant event__participant--home fontExtraBold\"}).text\n",
        "        away = k.find(\n",
        "            'div', {\"class\": \"event__participant event__participant--away\"}).text\n",
        "    except:\n",
        "        try:\n",
        "            home = k.find(\n",
        "                'div', {\"class\": \"event__participant event__participant--home\"}).text\n",
        "            away = k.find('div', {\n",
        "                          \"class\": \"event__participant event__participant--away fontExtraBold\"}).text\n",
        "        except:\n",
        "            home = k.find(\n",
        "                'div', {\"class\": \"event__participant event__participant--home\"}).text\n",
        "            away = k.find(\n",
        "                'div', {\"class\": \"event__participant event__participant--away\"}).text\n",
        "    match_id = k.get('id').rsplit('_')[-1]\n",
        "    driver.get(\n",
        "        f'https://www.flashscore.com/match/{match_id}/#/match-summary/match-summary')\n",
        "    sleep(5)\n",
        "    stats_soup = bs(driver.page_source, 'lxml')\n",
        "\n",
        "    stat = stats_soup.find('div', {'class': \"smv__verticalSections section\"})\n",
        "#   stats_soup.find_all('div',{'class':'participant__participantName participant__overflow '})\n",
        "    all_stat = stat.find_all(recursive=False)\n",
        "    first_sec, home_event, away_event = get_stats(all_stat)\n",
        "    test_url = f'https://www.flashscore.com/match/{match_id}/#/match-summary' + \\\n",
        "        '/match-statistics/0'\n",
        "    driver.get(test_url)\n",
        "    sleep(3)\n",
        "    # stats goes here\n",
        "#     ext = '/match-statistics/0'\n",
        "    all_stat = get_stats_match()\n",
        "    all_data.append([home, away, first_sec, home_event, away_event, all_stat])\n",
        "#    print(match_id)\n"
      ]
    },
    {
      "cell_type": "code",
      "execution_count": null,
      "metadata": {
        "id": "PkG1LN49IvA2"
      },
      "outputs": [],
      "source": [
        "# %%\n"
      ]
    },
    {
      "cell_type": "code",
      "execution_count": null,
      "metadata": {
        "colab": {
          "base_uri": "https://localhost:8080/",
          "height": 441
        },
        "id": "QfLchSSaIxgl",
        "outputId": "407ee0bc-1280-452e-c0ae-8c89fcadbed4"
      },
      "outputs": [],
      "source": [
        "# %% Convert the scraped data into a dataframe\n",
        "df = pd.DataFrame(data=all_data, columns=[\n",
        "                  'Home Team', 'Away Team', 'HT/FT', 'Home Events', 'Away Events', 'Game Stats'])\n",
        "df.head()"
      ]
    },
    {
      "cell_type": "code",
      "execution_count": null,
      "metadata": {
        "id": "0VRAxKygIzzT"
      },
      "outputs": [],
      "source": [
        "# %%\n",
        "df['First Half Score'] = df['HT/FT'].apply(lambda x: x[0])\n",
        "df['Second Half Score'] = df['HT/FT'].apply(lambda x: x[1])\n"
      ]
    },
    {
      "cell_type": "code",
      "execution_count": null,
      "metadata": {
        "id": "6ZCOq5xZI2Sf"
      },
      "outputs": [],
      "source": [
        "# %% Drop the Half Time/Full Time Score column.\n",
        "df.drop('HT/FT', axis=1, inplace=True)\n"
      ]
    },
    {
      "cell_type": "code",
      "execution_count": null,
      "metadata": {
        "colab": {
          "base_uri": "https://localhost:8080/"
        },
        "id": "QDGc2Y2wI4eO",
        "outputId": "8b4ef3a9-15e6-4c6f-db9c-5972fab13fa6"
      },
      "outputs": [],
      "source": [
        "# %%\n",
        "for i, j in enumerate(stat_column[:-2]):\n",
        "    print(j)\n",
        "    df[f'{j} Home'] = df['Game Stats'].apply(lambda x: x[i][0])\n",
        "    df[f'{j} Away'] = df['Game Stats'].apply(lambda x: x[i][1])\n",
        "df.drop('Game Stats', axis=1, inplace=True)\n"
      ]
    },
    {
      "cell_type": "code",
      "execution_count": null,
      "metadata": {
        "id": "mR6_nXzyI8k_"
      },
      "outputs": [],
      "source": [
        "# %% Create separate dataframes for both home and away events.\n",
        "df_home = df[['Home Team', 'Away Team',\n",
        "              'First Half Score',\t'Second Half Score', 'Home Events']]\n",
        "df_away = df[['Home Team', 'Away Team',\n",
        "              'First Half Score',\t'Second Half Score', 'Away Events']]\n"
      ]
    },
    {
      "cell_type": "code",
      "execution_count": null,
      "metadata": {
        "id": "hWfGlXl9JAur"
      },
      "outputs": [],
      "source": [
        "# %% Unpivot the separated dataframes.\n",
        "df_home_melted = pd.melt(df_home, id_vars=[\n",
        "                         'Home Team', 'Away Team', 'First Half Score',\t'Second Half Score', ],\n",
        "                         var_name='Event', value_name='Value')\n",
        "df_away_melted = pd.melt(df_away, id_vars=[\n",
        "                         'Home Team', 'Away Team', 'First Half Score',\t'Second Half Score', ],\n",
        "                         var_name='Event', value_name='Value')\n"
      ]
    },
    {
      "cell_type": "code",
      "execution_count": null,
      "metadata": {
        "id": "Tuz0t73DJFGt"
      },
      "outputs": [],
      "source": [
        "# %% Remove the brackets from the column contents, and remove trailing commas from the texts.\n",
        "df_home_melted = df_home_melted['Value'].apply(lambda x: pd.Series(\n",
        "    str(x).split(\"]\")).str.replace(r'[][]+', '', regex=True).str.lstrip(','))\n",
        "df_away_melted = df_away_melted['Value'].apply(lambda x: pd.Series(\n",
        "    str(x).split(\"]\")).str.replace(r'[][]+', '', regex=True).str.lstrip(','))\n"
      ]
    },
    {
      "cell_type": "code",
      "execution_count": null,
      "metadata": {
        "id": "tvDEW9-SJGMQ"
      },
      "outputs": [],
      "source": [
        "# %% Rename columns\n",
        "df_home_melted = df_home_melted.rename({0: 'Home Event_1', 1: 'Home Event_2', 2: 'Home Event_3', 3: 'Home Event_4', 4: 'Home Event_5',\n",
        "                                        5: 'Home Event_6', 6: 'Home Event_7', 7: 'Home Event_8', 8: 'Home Event_9', 9: 'Home Event_10',\n",
        "                                        10: 'Home Event_11', 11: 'Home Event_12', 12: 'Home Event_13', 13: 'Home Event_14'}, axis=1)\n",
        "df_away_melted = df_away_melted.rename({0: 'Away Event_1', 1: 'Away Event_2', 2: 'Away Event_3', 3: 'Away Event_4', 4: 'Away Event_5',\n",
        "                                        5: 'Away Event_6', 6: 'Away Event_7', 7: 'Away Event_8', 8: 'Away Event_9', 9: 'Away Event_10',\n",
        "                                        10: 'Away Event_11', 11: 'Away Event_12', 12: 'Away Event_13', 13: 'Away Event_14'}, axis=1)\n"
      ]
    },
    {
      "cell_type": "code",
      "execution_count": null,
      "metadata": {
        "id": "OIMI5I3LJJDL"
      },
      "outputs": [],
      "source": [
        "# %% Drop the original event columns.\n",
        "df_home = df_home.drop('Home Events', axis=1).reset_index().merge(\n",
        "    df_home_melted.reset_index()).set_index('index')\n",
        "df_away = df_away.drop('Away Events', axis=1).reset_index().merge(\n",
        "    df_away_melted.reset_index()).set_index('index')\n"
      ]
    },
    {
      "cell_type": "code",
      "execution_count": null,
      "metadata": {
        "id": "6Y4snN1tJNZe"
      },
      "outputs": [],
      "source": [
        "# %% Merge the separated events (home and away) into a single dataframe.\n",
        "match_data = df_home.merge(df_away.drop(\n",
        "    ['First Half Score', 'Second Half Score'], axis=1), on=['Home Team', 'Away Team'])\n",
        "try:\n",
        "  for i in range(15):\n",
        "    if f'Home Event_{i}' in match_data:\n",
        "      match_data[f'Home Event_{i}'] = match_data[f'Home Event_{i}']\n",
        "    else:\n",
        "      match_data[f'Home Event_{i}'] = pd.Series(\n",
        "          [np.nan for x in range(len(match_data.index))]\n",
        "      )\n",
        "  for i in range(15):\n",
        "    if f'Away Event_{i}' in match_data:\n",
        "      match_data[f'Away Event_{i}'] = match_data[f'Away Event_{i}']\n",
        "    else:\n",
        "      match_data[f'Away Event_{i}'] = pd.Series(\n",
        "          [np.nan for x in range(len(match_data.index))]\n",
        "      )\n",
        "except:\n",
        "  pass\n",
        "match_data['Match'] = match_data['Home Team'] + \\\n",
        "    \" \" + \"VS\" + \" \" + match_data['Away Team']\n",
        "match_data = match_data[['Match', 'Home Team', 'Away Team', 'First Half Score', 'Second Half Score', 'Home Event_1',\n",
        "                         'Away Event_1', 'Home Event_2', 'Away Event_2', 'Home Event_3', 'Away Event_3', 'Home Event_4',\n",
        "                         'Away Event_4', 'Home Event_5', 'Away Event_5', 'Home Event_6', 'Away Event_6', 'Home Event_7',\n",
        "                         'Away Event_7', 'Home Event_8', 'Away Event_8', 'Home Event_9', 'Away Event_9', 'Home Event_10',\n",
        "                         'Away Event_10', 'Home Event_11', 'Away Event_11', 'Home Event_11', 'Away Event_12', 'Home Event_13',\n",
        "                         'Away Event_13', 'Home Event_14',  'Away Event_14']]\n"
      ]
    },
    {
      "cell_type": "code",
      "execution_count": null,
      "metadata": {
        "id": "dWMC2aSJJO-x"
      },
      "outputs": [],
      "source": [
        "# %% Merge the derived match data with the original dataframe.\n",
        "match_data = df.drop(['Home Events', 'Away Events'], axis=1).merge(match_data.drop(\n",
        "    ['First Half Score', 'Second Half Score'], axis=1), on=['Home Team', 'Away Team'])\n"
      ]
    },
    {
      "cell_type": "code",
      "execution_count": null,
      "metadata": {
        "id": "k5vAb86-JR3w"
      },
      "outputs": [],
      "source": [
        "# %% Unpivot match_data by converting the events header into a single column, and another column that hold the information.\n",
        "# This reduces the number of columns and increases the number of rows.\n",
        "match_data_melted = pd.melt(match_data, id_vars=['Match', 'Home Team', 'Away Team', 'First Half Score', 'Second Half Score',\n",
        "                                                 'Ball Possession Home', 'Ball Possession Away', 'Goal Attempts Home',\n",
        "                                                 'Goal Attempts Away', 'Shots on Goal Home', 'Shots on Goal Away',\n",
        "                                                 'Shots off Goal Home', 'Shots off Goal Away', 'Blocked Shots Home',\n",
        "                                                 'Blocked Shots Away', 'Free Kicks Home', 'Free Kicks Away',\n",
        "                                                 'Corner Kicks Home', 'Corner Kicks Away', 'Offsides Home',\n",
        "                                                 'Offsides Away', 'Throw-in Home', 'Throw-in Away',\n",
        "                                                 'Goalkeeper Saves Home', 'Goalkeeper Saves Away', 'Fouls Home',\n",
        "                                                 'Fouls Away', 'Yellow Cards Home', 'Yellow Cards Away',\n",
        "                                                 'Total Passes Home', 'Total Passes Away', 'Completed Passes Home',\n",
        "                                                 'Completed Passes Away', 'Tackles Home', 'Tackles Away', 'Attacks Home',\n",
        "                                                 'Attacks Away', ], var_name='Event', value_name='Details')\n"
      ]
    },
    {
      "cell_type": "code",
      "execution_count": null,
      "metadata": {
        "id": "AtpobEhfJU46"
      },
      "outputs": [],
      "source": [
        "# %% Split the 'Details' columns to extract the information contained in it\n",
        "match_data_melted[['Minute', 'Event/Player', 'Type/Assist', 'Goal Status']\n",
        "                  ] = match_data_melted['Details'].apply(lambda x: pd.Series(str(x).split(\",\")))\n",
        "match_data_melted = match_data_melted.drop('Details', axis=1)\n",
        "match_data_melted = match_data_melted.replace(\"'\", '', regex=True)\n"
      ]
    },
    {
      "cell_type": "code",
      "execution_count": null,
      "metadata": {
        "id": "l3t2c99VJXrl"
      },
      "outputs": [],
      "source": [
        "# %% Extract goals from the data.\n",
        "goals = match_data_melted.dropna(subset=['Goal Status'])\n",
        "goals = goals.rename(\n",
        "    {'Event/Player': 'Scorer', 'Type/Assist': 'Assist'}, axis=1)\n"
      ]
    },
    {
      "cell_type": "code",
      "execution_count": null,
      "metadata": {
        "id": "a8lhcpElJaL7"
      },
      "outputs": [],
      "source": [
        "# %% Convert the dataframes into csv files.\n",
        "match_data_melted.to_csv('FlashScore_Matches.csv', index=False, header=True)\n",
        "goals.to_csv('FlashScore_goals.csv', index=False, header=True)\n"
      ]
    },
    {
      "cell_type": "code",
      "execution_count": null,
      "metadata": {
        "id": "Uo1L7Y7VJeNn"
      },
      "outputs": [],
      "source": [
        "# %%"
      ]
    }
  ],
  "metadata": {
    "colab": {
      "provenance": []
    },
    "kernelspec": {
      "display_name": "Python 3.9.13 64-bit ('anaconda3')",
      "language": "python",
      "name": "python3"
    },
    "language_info": {
      "name": "python",
      "version": "3.9.13"
    },
    "vscode": {
      "interpreter": {
        "hash": "263930470851f494f0ed2879c35b57985588df20f9e529b86e97dd5eb9ddc466"
      }
    }
  },
  "nbformat": 4,
  "nbformat_minor": 0
}
